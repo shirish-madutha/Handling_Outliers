{
 "cells": [
  {
   "cell_type": "code",
   "execution_count": 35,
   "id": "56643bc7-a9f8-4e9d-8380-870be985df61",
   "metadata": {},
   "outputs": [],
   "source": [
    "import numpy as np\n",
    "import pandas as pd\n",
    "import matplotlib.pyplot as plt"
   ]
  },
  {
   "cell_type": "code",
   "execution_count": 36,
   "id": "77338d8f-a4d3-4c4e-8413-ea1b773249da",
   "metadata": {},
   "outputs": [],
   "source": [
    "l=np.array([23,1100,58,31,53,54,845,74,65,45])\n",
    "minimum,Q1,Q2,Q3,maximum=np.quantile(l,[0,0.25,0.50,0.75,1.0])"
   ]
  },
  {
   "cell_type": "code",
   "execution_count": 37,
   "id": "2fa106ea-7739-4df4-b528-011d2a158d9d",
   "metadata": {},
   "outputs": [
    {
     "data": {
      "text/plain": [
       "array([1100.])"
      ]
     },
     "execution_count": 37,
     "metadata": {},
     "output_type": "execute_result"
    }
   ],
   "source": [
    "np.percentile(l,[100])"
   ]
  },
  {
   "cell_type": "code",
   "execution_count": 38,
   "id": "e5e9d989-7fca-4d18-be8f-ee2112e2df06",
   "metadata": {},
   "outputs": [],
   "source": [
    "IQR=Q3-Q1"
   ]
  },
  {
   "cell_type": "code",
   "execution_count": 39,
   "id": "a5d46a33-1be8-44be-bcbf-45e0c722809d",
   "metadata": {},
   "outputs": [],
   "source": [
    "lower_fence=Q1-1.5*(IQR)\n",
    "higher_fence=Q3+1.5*(IQR)"
   ]
  },
  {
   "cell_type": "code",
   "execution_count": 40,
   "id": "f0c170eb-48a1-4130-89a0-e808dfd623a3",
   "metadata": {},
   "outputs": [
    {
     "data": {
      "text/plain": [
       "(9.875, 108.875)"
      ]
     },
     "execution_count": 40,
     "metadata": {},
     "output_type": "execute_result"
    }
   ],
   "source": [
    "lower_fence,higher_fence"
   ]
  },
  {
   "cell_type": "code",
   "execution_count": 41,
   "id": "6bb04f85-e505-4ef1-9493-e83a2b8363ee",
   "metadata": {},
   "outputs": [],
   "source": [
    "new_list=[]\n",
    "for i in l:\n",
    "    if i>=-9.875 and i<=108.875:\n",
    "        new_list.append(i)"
   ]
  },
  {
   "cell_type": "code",
   "execution_count": 42,
   "id": "d52c5ab0-0131-4f5b-b224-e0887fe811e9",
   "metadata": {},
   "outputs": [
    {
     "data": {
      "text/plain": [
       "[23, 58, 31, 53, 54, 74, 65, 45]"
      ]
     },
     "execution_count": 42,
     "metadata": {},
     "output_type": "execute_result"
    }
   ],
   "source": [
    "new_list"
   ]
  },
  {
   "cell_type": "code",
   "execution_count": 43,
   "id": "318df708-38ff-4d17-89e8-c10febf8a21d",
   "metadata": {},
   "outputs": [
    {
     "data": {
      "text/plain": [
       "{'whiskers': [<matplotlib.lines.Line2D at 0x7f5bb2fcd180>,\n",
       "  <matplotlib.lines.Line2D at 0x7f5bb2fcd420>],\n",
       " 'caps': [<matplotlib.lines.Line2D at 0x7f5bb2fcd6c0>,\n",
       "  <matplotlib.lines.Line2D at 0x7f5bb2fcd960>],\n",
       " 'boxes': [<matplotlib.lines.Line2D at 0x7f5bb2fccee0>],\n",
       " 'medians': [<matplotlib.lines.Line2D at 0x7f5bb2fcdc00>],\n",
       " 'fliers': [<matplotlib.lines.Line2D at 0x7f5bb2fcdea0>],\n",
       " 'means': []}"
      ]
     },
     "execution_count": 43,
     "metadata": {},
     "output_type": "execute_result"
    },
    {
     "data": {
      "image/png": "[encoded data removed]",
      "text/plain": [
       "<Figure size 640x480 with 1 Axes>"
      ]
     },
     "metadata": {},
     "output_type": "display_data"
    }
   ],
   "source": [
    "plt.boxplot(new_list)"
   ]
  },
  {
   "cell_type": "code",
   "execution_count": 44,
   "id": "92df4bf9-fc6b-4952-b603-d9d6ea855595",
   "metadata": {},
   "outputs": [
    {
     "data": {
      "text/plain": [
       "{'whiskers': [<matplotlib.lines.Line2D at 0x7f5bb302b490>,\n",
       "  <matplotlib.lines.Line2D at 0x7f5bb302b610>],\n",
       " 'caps': [<matplotlib.lines.Line2D at 0x7f5bb302b8b0>,\n",
       "  <matplotlib.lines.Line2D at 0x7f5bb302bb50>],\n",
       " 'boxes': [<matplotlib.lines.Line2D at 0x7f5bb302b1f0>],\n",
       " 'medians': [<matplotlib.lines.Line2D at 0x7f5bb302bdf0>],\n",
       " 'fliers': [<matplotlib.lines.Line2D at 0x7f5bb30980d0>],\n",
       " 'means': []}"
      ]
     },
     "execution_count": 44,
     "metadata": {},
     "output_type": "execute_result"
    },
    {
     "data": {
      "image/png": "[encoded data removed]",
      "text/plain": [
       "<Figure size 640x480 with 1 Axes>"
      ]
     },
     "metadata": {},
     "output_type": "display_data"
    }
   ],
   "source": [
    "plt.boxplot(l)"
   ]
  },
  {
   "cell_type": "code",
   "execution_count": null,
   "id": "5f914c8d-449b-41ba-986e-14ffc8cb2ad4",
   "metadata": {},
   "outputs": [],
   "source": []
  },
  {
   "cell_type": "code",
   "execution_count": null,
   "id": "9db408bc-e7e6-43b7-a980-4bb1540d35b7",
   "metadata": {},
   "outputs": [],
   "source": []
  }
 ],
 "metadata": {
  "kernelspec": {
   "display_name": "Python 3 (ipykernel)",
   "language": "python",
   "name": "python3"
  },
  "language_info": {
   "codemirror_mode": {
    "name": "ipython",
    "version": 3
   },
   "file_extension": ".py",
   "mimetype": "text/x-python",
   "name": "python",
   "nbconvert_exporter": "python",
   "pygments_lexer": "ipython3",
   "version": "3.10.8"
  }
 },
 "nbformat": 4,
 "nbformat_minor": 5
}
